{
 "cells": [
  {
   "cell_type": "markdown",
   "metadata": {},
   "source": [
    "## Deliverable 2. Create a Customer Travel Destinations Map."
   ]
  },
  {
   "cell_type": "code",
   "execution_count": 1,
   "metadata": {},
   "outputs": [],
   "source": [
    "# Dependencies and Setup\n",
    "import pandas as pd\n",
    "import requests\n",
    "import gmaps\n",
    "import numpy as np\n",
    "\n",
    "# Import API key\n",
    "from config import g_key\n",
    "\n",
    "# Configure gmaps API key\n",
    "gmaps.configure(api_key=g_key)"
   ]
  },
  {
   "cell_type": "code",
   "execution_count": 2,
   "metadata": {},
   "outputs": [
    {
     "output_type": "execute_result",
     "data": {
      "text/plain": [
       "   Unnamed: 0        City Country      Lat       Lng  Max Temp  Humidity  \\\n",
       "0           0   Jamestown      US  42.0970  -79.2353     72.72        94   \n",
       "1           1      Bethel      US  41.3712  -73.4140     84.69        95   \n",
       "2           2     Dunedin      NZ -45.8742  170.5036     49.80        92   \n",
       "3           3        Lebu      CL -37.6167  -73.6500     48.69        69   \n",
       "4           4  Vila Velha      BR -20.3297  -40.2925     73.35        83   \n",
       "\n",
       "   Cloudiness  Wind Speed Current Description  \n",
       "0          90       10.36     overcast clouds  \n",
       "1          73        2.66       broken clouds  \n",
       "2         100       10.00     overcast clouds  \n",
       "3           6       17.11           clear sky  \n",
       "4           0       10.36           clear sky  "
      ],
      "text/html": "<div>\n<style scoped>\n    .dataframe tbody tr th:only-of-type {\n        vertical-align: middle;\n    }\n\n    .dataframe tbody tr th {\n        vertical-align: top;\n    }\n\n    .dataframe thead th {\n        text-align: right;\n    }\n</style>\n<table border=\"1\" class=\"dataframe\">\n  <thead>\n    <tr style=\"text-align: right;\">\n      <th></th>\n      <th>Unnamed: 0</th>\n      <th>City</th>\n      <th>Country</th>\n      <th>Lat</th>\n      <th>Lng</th>\n      <th>Max Temp</th>\n      <th>Humidity</th>\n      <th>Cloudiness</th>\n      <th>Wind Speed</th>\n      <th>Current Description</th>\n    </tr>\n  </thead>\n  <tbody>\n    <tr>\n      <th>0</th>\n      <td>0</td>\n      <td>Jamestown</td>\n      <td>US</td>\n      <td>42.0970</td>\n      <td>-79.2353</td>\n      <td>72.72</td>\n      <td>94</td>\n      <td>90</td>\n      <td>10.36</td>\n      <td>overcast clouds</td>\n    </tr>\n    <tr>\n      <th>1</th>\n      <td>1</td>\n      <td>Bethel</td>\n      <td>US</td>\n      <td>41.3712</td>\n      <td>-73.4140</td>\n      <td>84.69</td>\n      <td>95</td>\n      <td>73</td>\n      <td>2.66</td>\n      <td>broken clouds</td>\n    </tr>\n    <tr>\n      <th>2</th>\n      <td>2</td>\n      <td>Dunedin</td>\n      <td>NZ</td>\n      <td>-45.8742</td>\n      <td>170.5036</td>\n      <td>49.80</td>\n      <td>92</td>\n      <td>100</td>\n      <td>10.00</td>\n      <td>overcast clouds</td>\n    </tr>\n    <tr>\n      <th>3</th>\n      <td>3</td>\n      <td>Lebu</td>\n      <td>CL</td>\n      <td>-37.6167</td>\n      <td>-73.6500</td>\n      <td>48.69</td>\n      <td>69</td>\n      <td>6</td>\n      <td>17.11</td>\n      <td>clear sky</td>\n    </tr>\n    <tr>\n      <th>4</th>\n      <td>4</td>\n      <td>Vila Velha</td>\n      <td>BR</td>\n      <td>-20.3297</td>\n      <td>-40.2925</td>\n      <td>73.35</td>\n      <td>83</td>\n      <td>0</td>\n      <td>10.36</td>\n      <td>clear sky</td>\n    </tr>\n  </tbody>\n</table>\n</div>"
     },
     "metadata": {},
     "execution_count": 2
    }
   ],
   "source": [
    "# 1. Import the WeatherPy_database.csv file. \n",
    "city_data_df = pd.read_csv(\"../Weather_Database/WeatherPy_database.csv\")\n",
    "city_data_df.head()"
   ]
  },
  {
   "cell_type": "code",
   "execution_count": 3,
   "metadata": {},
   "outputs": [],
   "source": [
    "# 2. Prompt the user to enter minimum and maximum temperature criteria \n",
    "min_temp = float(input(\"What is the minimum temperature you would like for your trip? \"))\n",
    "max_temp = float(input(\"What is the maximum temperature you would like for your trip? \"))"
   ]
  },
  {
   "cell_type": "code",
   "execution_count": 4,
   "metadata": {},
   "outputs": [
    {
     "output_type": "execute_result",
     "data": {
      "text/plain": [
       "    Unnamed: 0        City Country      Lat       Lng  Max Temp  Humidity  \\\n",
       "0            0   Jamestown      US  42.0970  -79.2353     72.72        94   \n",
       "1            1      Bethel      US  41.3712  -73.4140     84.69        95   \n",
       "4            4  Vila Velha      BR -20.3297  -40.2925     73.35        83   \n",
       "5            5      Faanui      PF -16.4833 -151.7500     79.43        73   \n",
       "6            6       Vaini      TO -21.2000 -175.2000     78.96        78   \n",
       "8            8      Banepa      NP  27.6298   85.5214     68.32       100   \n",
       "12          12    Victoria      HK  22.2855  114.1577     82.45        89   \n",
       "13          13   Bathsheba      BB  13.2167  -59.5167     83.01        78   \n",
       "15          15        Raga      SS   8.4596   25.6780     70.12        96   \n",
       "17          17      Mangan      IN  27.5167   88.5333     76.08        94   \n",
       "\n",
       "    Cloudiness  Wind Speed Current Description  \n",
       "0           90       10.36     overcast clouds  \n",
       "1           73        2.66       broken clouds  \n",
       "4            0       10.36           clear sky  \n",
       "5           30       22.84    scattered clouds  \n",
       "6           75        9.22       broken clouds  \n",
       "8           75        3.44       broken clouds  \n",
       "12         100        4.00          light rain  \n",
       "13          40       16.11    scattered clouds  \n",
       "15         100        3.89     overcast clouds  \n",
       "17         100        0.89     overcast clouds  "
      ],
      "text/html": "<div>\n<style scoped>\n    .dataframe tbody tr th:only-of-type {\n        vertical-align: middle;\n    }\n\n    .dataframe tbody tr th {\n        vertical-align: top;\n    }\n\n    .dataframe thead th {\n        text-align: right;\n    }\n</style>\n<table border=\"1\" class=\"dataframe\">\n  <thead>\n    <tr style=\"text-align: right;\">\n      <th></th>\n      <th>Unnamed: 0</th>\n      <th>City</th>\n      <th>Country</th>\n      <th>Lat</th>\n      <th>Lng</th>\n      <th>Max Temp</th>\n      <th>Humidity</th>\n      <th>Cloudiness</th>\n      <th>Wind Speed</th>\n      <th>Current Description</th>\n    </tr>\n  </thead>\n  <tbody>\n    <tr>\n      <th>0</th>\n      <td>0</td>\n      <td>Jamestown</td>\n      <td>US</td>\n      <td>42.0970</td>\n      <td>-79.2353</td>\n      <td>72.72</td>\n      <td>94</td>\n      <td>90</td>\n      <td>10.36</td>\n      <td>overcast clouds</td>\n    </tr>\n    <tr>\n      <th>1</th>\n      <td>1</td>\n      <td>Bethel</td>\n      <td>US</td>\n      <td>41.3712</td>\n      <td>-73.4140</td>\n      <td>84.69</td>\n      <td>95</td>\n      <td>73</td>\n      <td>2.66</td>\n      <td>broken clouds</td>\n    </tr>\n    <tr>\n      <th>4</th>\n      <td>4</td>\n      <td>Vila Velha</td>\n      <td>BR</td>\n      <td>-20.3297</td>\n      <td>-40.2925</td>\n      <td>73.35</td>\n      <td>83</td>\n      <td>0</td>\n      <td>10.36</td>\n      <td>clear sky</td>\n    </tr>\n    <tr>\n      <th>5</th>\n      <td>5</td>\n      <td>Faanui</td>\n      <td>PF</td>\n      <td>-16.4833</td>\n      <td>-151.7500</td>\n      <td>79.43</td>\n      <td>73</td>\n      <td>30</td>\n      <td>22.84</td>\n      <td>scattered clouds</td>\n    </tr>\n    <tr>\n      <th>6</th>\n      <td>6</td>\n      <td>Vaini</td>\n      <td>TO</td>\n      <td>-21.2000</td>\n      <td>-175.2000</td>\n      <td>78.96</td>\n      <td>78</td>\n      <td>75</td>\n      <td>9.22</td>\n      <td>broken clouds</td>\n    </tr>\n    <tr>\n      <th>8</th>\n      <td>8</td>\n      <td>Banepa</td>\n      <td>NP</td>\n      <td>27.6298</td>\n      <td>85.5214</td>\n      <td>68.32</td>\n      <td>100</td>\n      <td>75</td>\n      <td>3.44</td>\n      <td>broken clouds</td>\n    </tr>\n    <tr>\n      <th>12</th>\n      <td>12</td>\n      <td>Victoria</td>\n      <td>HK</td>\n      <td>22.2855</td>\n      <td>114.1577</td>\n      <td>82.45</td>\n      <td>89</td>\n      <td>100</td>\n      <td>4.00</td>\n      <td>light rain</td>\n    </tr>\n    <tr>\n      <th>13</th>\n      <td>13</td>\n      <td>Bathsheba</td>\n      <td>BB</td>\n      <td>13.2167</td>\n      <td>-59.5167</td>\n      <td>83.01</td>\n      <td>78</td>\n      <td>40</td>\n      <td>16.11</td>\n      <td>scattered clouds</td>\n    </tr>\n    <tr>\n      <th>15</th>\n      <td>15</td>\n      <td>Raga</td>\n      <td>SS</td>\n      <td>8.4596</td>\n      <td>25.6780</td>\n      <td>70.12</td>\n      <td>96</td>\n      <td>100</td>\n      <td>3.89</td>\n      <td>overcast clouds</td>\n    </tr>\n    <tr>\n      <th>17</th>\n      <td>17</td>\n      <td>Mangan</td>\n      <td>IN</td>\n      <td>27.5167</td>\n      <td>88.5333</td>\n      <td>76.08</td>\n      <td>94</td>\n      <td>100</td>\n      <td>0.89</td>\n      <td>overcast clouds</td>\n    </tr>\n  </tbody>\n</table>\n</div>"
     },
     "metadata": {},
     "execution_count": 4
    }
   ],
   "source": [
    "# 3. Filter the city_data_df DataFrame using the input statements to create a new DataFrame using the loc method.\n",
    "preferred_cities_df = city_data_df.loc[(city_data_df[\"Max Temp\"] <= max_temp) & \\\n",
    "                                       (city_data_df[\"Max Temp\"] >= min_temp)]\n",
    "preferred_cities_df.head(10)"
   ]
  },
  {
   "cell_type": "code",
   "execution_count": 5,
   "metadata": {},
   "outputs": [
    {
     "output_type": "execute_result",
     "data": {
      "text/plain": [
       "Unnamed: 0             415\n",
       "City                   415\n",
       "Country                411\n",
       "Lat                    415\n",
       "Lng                    415\n",
       "Max Temp               415\n",
       "Humidity               415\n",
       "Cloudiness             415\n",
       "Wind Speed             415\n",
       "Current Description    415\n",
       "dtype: int64"
      ]
     },
     "metadata": {},
     "execution_count": 5
    }
   ],
   "source": [
    "# 4a. Determine if there are any empty rows.\n",
    "preferred_cities_df.count()"
   ]
  },
  {
   "cell_type": "code",
   "execution_count": 6,
   "metadata": {},
   "outputs": [],
   "source": [
    "# 4b. Drop any empty rows and create a new DataFrame that doesn’t have empty rows.\n",
    "clean_df = preferred_cities_df.dropna().copy() "
   ]
  },
  {
   "cell_type": "code",
   "execution_count": 7,
   "metadata": {},
   "outputs": [
    {
     "output_type": "execute_result",
     "data": {
      "text/plain": [
       "          City Country  Max Temp Current Description      Lat       Lng  \\\n",
       "0    Jamestown      US     72.72     overcast clouds  42.0970  -79.2353   \n",
       "1       Bethel      US     84.69       broken clouds  41.3712  -73.4140   \n",
       "4   Vila Velha      BR     73.35           clear sky -20.3297  -40.2925   \n",
       "5       Faanui      PF     79.43    scattered clouds -16.4833 -151.7500   \n",
       "6        Vaini      TO     78.96       broken clouds -21.2000 -175.2000   \n",
       "8       Banepa      NP     68.32       broken clouds  27.6298   85.5214   \n",
       "12    Victoria      HK     82.45          light rain  22.2855  114.1577   \n",
       "13   Bathsheba      BB     83.01    scattered clouds  13.2167  -59.5167   \n",
       "15        Raga      SS     70.12     overcast clouds   8.4596   25.6780   \n",
       "17      Mangan      IN     76.08     overcast clouds  27.5167   88.5333   \n",
       "\n",
       "   Hotel Name  \n",
       "0              \n",
       "1              \n",
       "4              \n",
       "5              \n",
       "6              \n",
       "8              \n",
       "12             \n",
       "13             \n",
       "15             \n",
       "17             "
      ],
      "text/html": "<div>\n<style scoped>\n    .dataframe tbody tr th:only-of-type {\n        vertical-align: middle;\n    }\n\n    .dataframe tbody tr th {\n        vertical-align: top;\n    }\n\n    .dataframe thead th {\n        text-align: right;\n    }\n</style>\n<table border=\"1\" class=\"dataframe\">\n  <thead>\n    <tr style=\"text-align: right;\">\n      <th></th>\n      <th>City</th>\n      <th>Country</th>\n      <th>Max Temp</th>\n      <th>Current Description</th>\n      <th>Lat</th>\n      <th>Lng</th>\n      <th>Hotel Name</th>\n    </tr>\n  </thead>\n  <tbody>\n    <tr>\n      <th>0</th>\n      <td>Jamestown</td>\n      <td>US</td>\n      <td>72.72</td>\n      <td>overcast clouds</td>\n      <td>42.0970</td>\n      <td>-79.2353</td>\n      <td></td>\n    </tr>\n    <tr>\n      <th>1</th>\n      <td>Bethel</td>\n      <td>US</td>\n      <td>84.69</td>\n      <td>broken clouds</td>\n      <td>41.3712</td>\n      <td>-73.4140</td>\n      <td></td>\n    </tr>\n    <tr>\n      <th>4</th>\n      <td>Vila Velha</td>\n      <td>BR</td>\n      <td>73.35</td>\n      <td>clear sky</td>\n      <td>-20.3297</td>\n      <td>-40.2925</td>\n      <td></td>\n    </tr>\n    <tr>\n      <th>5</th>\n      <td>Faanui</td>\n      <td>PF</td>\n      <td>79.43</td>\n      <td>scattered clouds</td>\n      <td>-16.4833</td>\n      <td>-151.7500</td>\n      <td></td>\n    </tr>\n    <tr>\n      <th>6</th>\n      <td>Vaini</td>\n      <td>TO</td>\n      <td>78.96</td>\n      <td>broken clouds</td>\n      <td>-21.2000</td>\n      <td>-175.2000</td>\n      <td></td>\n    </tr>\n    <tr>\n      <th>8</th>\n      <td>Banepa</td>\n      <td>NP</td>\n      <td>68.32</td>\n      <td>broken clouds</td>\n      <td>27.6298</td>\n      <td>85.5214</td>\n      <td></td>\n    </tr>\n    <tr>\n      <th>12</th>\n      <td>Victoria</td>\n      <td>HK</td>\n      <td>82.45</td>\n      <td>light rain</td>\n      <td>22.2855</td>\n      <td>114.1577</td>\n      <td></td>\n    </tr>\n    <tr>\n      <th>13</th>\n      <td>Bathsheba</td>\n      <td>BB</td>\n      <td>83.01</td>\n      <td>scattered clouds</td>\n      <td>13.2167</td>\n      <td>-59.5167</td>\n      <td></td>\n    </tr>\n    <tr>\n      <th>15</th>\n      <td>Raga</td>\n      <td>SS</td>\n      <td>70.12</td>\n      <td>overcast clouds</td>\n      <td>8.4596</td>\n      <td>25.6780</td>\n      <td></td>\n    </tr>\n    <tr>\n      <th>17</th>\n      <td>Mangan</td>\n      <td>IN</td>\n      <td>76.08</td>\n      <td>overcast clouds</td>\n      <td>27.5167</td>\n      <td>88.5333</td>\n      <td></td>\n    </tr>\n  </tbody>\n</table>\n</div>"
     },
     "metadata": {},
     "execution_count": 7
    }
   ],
   "source": [
    "# 5a. Create DataFrame called hotel_df to store hotel names along with city, country, max temp, and coordinates.\n",
    "hotel_df = clean_df[[\"City\", \"Country\", \"Max Temp\", \"Current Description\", \"Lat\", \"Lng\"]].copy()\n",
    "\n",
    "# 5b. Create a new column \"Hotel Name\"\n",
    "hotel_df[\"Hotel Name\"] = \"\"\n",
    "hotel_df.head(10)"
   ]
  },
  {
   "cell_type": "code",
   "execution_count": 8,
   "metadata": {},
   "outputs": [
    {
     "output_type": "stream",
     "name": "stdout",
     "text": [
      "Hotel not found... skipping.\n",
      "Hotel not found... skipping.\n",
      "Hotel not found... skipping.\n",
      "Hotel not found... skipping.\n",
      "Hotel not found... skipping.\n",
      "Hotel not found... skipping.\n",
      "Hotel not found... skipping.\n",
      "Hotel not found... skipping.\n",
      "Hotel not found... skipping.\n",
      "Hotel not found... skipping.\n",
      "Hotel not found... skipping.\n",
      "Hotel not found... skipping.\n",
      "Hotel not found... skipping.\n",
      "Hotel not found... skipping.\n",
      "Hotel not found... skipping.\n",
      "Hotel not found... skipping.\n",
      "Hotel not found... skipping.\n",
      "Hotel not found... skipping.\n",
      "Hotel not found... skipping.\n",
      "Hotel not found... skipping.\n",
      "Hotel not found... skipping.\n",
      "Hotel not found... skipping.\n",
      "Hotel not found... skipping.\n",
      "Hotel not found... skipping.\n",
      "Hotel not found... skipping.\n",
      "Hotel not found... skipping.\n",
      "Hotel not found... skipping.\n",
      "Hotel not found... skipping.\n",
      "Hotel not found... skipping.\n",
      "Hotel not found... skipping.\n",
      "Hotel not found... skipping.\n",
      "Hotel not found... skipping.\n",
      "Hotel not found... skipping.\n",
      "Hotel not found... skipping.\n",
      "Hotel not found... skipping.\n",
      "Hotel not found... skipping.\n",
      "Hotel not found... skipping.\n",
      "Hotel not found... skipping.\n",
      "Hotel not found... skipping.\n"
     ]
    }
   ],
   "source": [
    "# 6a. Set parameters to search for hotels with 5000 meters.\n",
    "params = {\n",
    "    \"radius\": 5000,\n",
    "    \"type\": \"lodging\",\n",
    "    \"key\": g_key\n",
    "}\n",
    "\n",
    "# 6b. Iterate through the hotel DataFrame.\n",
    "for index, row in hotel_df.iterrows():\n",
    "    # 6c. Get latitude and longitude from DataFrame\n",
    "    lat = row[\"Lat\"]\n",
    "    lng = row[\"Lng\"]\n",
    "    \n",
    "    # 6d. Set up the base URL for the Google Directions API to get JSON data.\n",
    "    params[\"location\"] = f\"{lat},{lng}\"\n",
    "    base_url = \"https://maps.googleapis.com/maps/api/place/nearbysearch/json\"\n",
    "    # 6e. Make request and retrieve the JSON data from the search. \n",
    "    hotels = requests.get(base_url, params=params).json()\n",
    "    \n",
    "    # 6f. Get the first hotel from the results and store the name, if a hotel isn't found skip the city.\n",
    "    try:\n",
    "        hotel_df.loc[index, \"Hotel Name\"] = hotels[\"results\"][0][\"name\"]\n",
    "    except (IndexError):\n",
    "        hotel_df.loc[index, \"Hotel Name\"] = np.NaN\n",
    "        print(\"Hotel not found... skipping.\")        "
   ]
  },
  {
   "cell_type": "code",
   "execution_count": 9,
   "metadata": {},
   "outputs": [
    {
     "output_type": "execute_result",
     "data": {
      "text/plain": [
       "          City Country  Max Temp Current Description      Lat       Lng  \\\n",
       "0    Jamestown      US     72.72     overcast clouds  42.0970  -79.2353   \n",
       "1       Bethel      US     84.69       broken clouds  41.3712  -73.4140   \n",
       "4   Vila Velha      BR     73.35           clear sky -20.3297  -40.2925   \n",
       "5       Faanui      PF     79.43    scattered clouds -16.4833 -151.7500   \n",
       "6        Vaini      TO     78.96       broken clouds -21.2000 -175.2000   \n",
       "8       Banepa      NP     68.32       broken clouds  27.6298   85.5214   \n",
       "12    Victoria      HK     82.45          light rain  22.2855  114.1577   \n",
       "13   Bathsheba      BB     83.01    scattered clouds  13.2167  -59.5167   \n",
       "17      Mangan      IN     76.08     overcast clouds  27.5167   88.5333   \n",
       "20   Mahebourg      MU     68.25    scattered clouds -20.4081   57.7000   \n",
       "\n",
       "                            Hotel Name  \n",
       "0       Hampton Inn & Suites Jamestown  \n",
       "1        Courtyard by Marriott Danbury  \n",
       "4            Quality Suites Vila Velha  \n",
       "5   Bora-Bora Pearl Beach Resort & Spa  \n",
       "6                  Keleti Beach Resort  \n",
       "8               Dhulikhel Lodge Resort  \n",
       "12                  Mini Hotel Central  \n",
       "13                      Atlantis Hotel  \n",
       "17                     Hotel Mout View  \n",
       "20  Shandrani Beachcomber Resort & Spa  "
      ],
      "text/html": "<div>\n<style scoped>\n    .dataframe tbody tr th:only-of-type {\n        vertical-align: middle;\n    }\n\n    .dataframe tbody tr th {\n        vertical-align: top;\n    }\n\n    .dataframe thead th {\n        text-align: right;\n    }\n</style>\n<table border=\"1\" class=\"dataframe\">\n  <thead>\n    <tr style=\"text-align: right;\">\n      <th></th>\n      <th>City</th>\n      <th>Country</th>\n      <th>Max Temp</th>\n      <th>Current Description</th>\n      <th>Lat</th>\n      <th>Lng</th>\n      <th>Hotel Name</th>\n    </tr>\n  </thead>\n  <tbody>\n    <tr>\n      <th>0</th>\n      <td>Jamestown</td>\n      <td>US</td>\n      <td>72.72</td>\n      <td>overcast clouds</td>\n      <td>42.0970</td>\n      <td>-79.2353</td>\n      <td>Hampton Inn &amp; Suites Jamestown</td>\n    </tr>\n    <tr>\n      <th>1</th>\n      <td>Bethel</td>\n      <td>US</td>\n      <td>84.69</td>\n      <td>broken clouds</td>\n      <td>41.3712</td>\n      <td>-73.4140</td>\n      <td>Courtyard by Marriott Danbury</td>\n    </tr>\n    <tr>\n      <th>4</th>\n      <td>Vila Velha</td>\n      <td>BR</td>\n      <td>73.35</td>\n      <td>clear sky</td>\n      <td>-20.3297</td>\n      <td>-40.2925</td>\n      <td>Quality Suites Vila Velha</td>\n    </tr>\n    <tr>\n      <th>5</th>\n      <td>Faanui</td>\n      <td>PF</td>\n      <td>79.43</td>\n      <td>scattered clouds</td>\n      <td>-16.4833</td>\n      <td>-151.7500</td>\n      <td>Bora-Bora Pearl Beach Resort &amp; Spa</td>\n    </tr>\n    <tr>\n      <th>6</th>\n      <td>Vaini</td>\n      <td>TO</td>\n      <td>78.96</td>\n      <td>broken clouds</td>\n      <td>-21.2000</td>\n      <td>-175.2000</td>\n      <td>Keleti Beach Resort</td>\n    </tr>\n    <tr>\n      <th>8</th>\n      <td>Banepa</td>\n      <td>NP</td>\n      <td>68.32</td>\n      <td>broken clouds</td>\n      <td>27.6298</td>\n      <td>85.5214</td>\n      <td>Dhulikhel Lodge Resort</td>\n    </tr>\n    <tr>\n      <th>12</th>\n      <td>Victoria</td>\n      <td>HK</td>\n      <td>82.45</td>\n      <td>light rain</td>\n      <td>22.2855</td>\n      <td>114.1577</td>\n      <td>Mini Hotel Central</td>\n    </tr>\n    <tr>\n      <th>13</th>\n      <td>Bathsheba</td>\n      <td>BB</td>\n      <td>83.01</td>\n      <td>scattered clouds</td>\n      <td>13.2167</td>\n      <td>-59.5167</td>\n      <td>Atlantis Hotel</td>\n    </tr>\n    <tr>\n      <th>17</th>\n      <td>Mangan</td>\n      <td>IN</td>\n      <td>76.08</td>\n      <td>overcast clouds</td>\n      <td>27.5167</td>\n      <td>88.5333</td>\n      <td>Hotel Mout View</td>\n    </tr>\n    <tr>\n      <th>20</th>\n      <td>Mahebourg</td>\n      <td>MU</td>\n      <td>68.25</td>\n      <td>scattered clouds</td>\n      <td>-20.4081</td>\n      <td>57.7000</td>\n      <td>Shandrani Beachcomber Resort &amp; Spa</td>\n    </tr>\n  </tbody>\n</table>\n</div>"
     },
     "metadata": {},
     "execution_count": 9
    }
   ],
   "source": [
    "# 7. Drop the rows where there is no Hotel Name.\n",
    "clean_hotel_df = hotel_df.dropna().copy()\n",
    "clean_hotel_df.head(10)"
   ]
  },
  {
   "cell_type": "code",
   "execution_count": 10,
   "metadata": {},
   "outputs": [],
   "source": [
    "# 8a. Create the output File (CSV)\n",
    "output_data_file = \"WeatherPy_vacation.csv\"\n",
    "# 8b. Export the City_Data into a csv\n",
    "clean_hotel_df.to_csv(output_data_file, index_label=\"City_ID\")"
   ]
  },
  {
   "cell_type": "code",
   "execution_count": 11,
   "metadata": {},
   "outputs": [],
   "source": [
    "# 9. Using the template add city name, the country code, the weather description and maximum temperature for the city.\n",
    "info_box_template = \"\"\"\n",
    "<dl>\n",
    "<dt>Hotel Name</dt><dd>{Hotel Name}</dd>\n",
    "<dt>City</dt><dd>{City}</dd>\n",
    "<dt>Country</dt><dd>{Country}</dd>\n",
    "<dt>Current Weather</dt><dd>{Current Description}</dd>\n",
    "</dl>\n",
    "\"\"\"\n",
    "\n",
    "# 10a. Get the data from each row and add it to the formatting template and store the data in a list.\n",
    "hotel_info = [info_box_template.format(**row) for index, row in clean_hotel_df.iterrows()]\n",
    "\n",
    "# 10b. Get the latitude and longitude from each row and store in a new DataFrame.\n",
    "locations = clean_hotel_df[[\"Lat\", \"Lng\"]]"
   ]
  },
  {
   "cell_type": "code",
   "execution_count": 12,
   "metadata": {},
   "outputs": [
    {
     "output_type": "display_data",
     "data": {
      "text/plain": "Figure(layout=FigureLayout(height='420px'))",
      "application/vnd.jupyter.widget-view+json": {
       "version_major": 2,
       "version_minor": 0,
       "model_id": "2b0f4945df2a4e9f8e37da4dc257adb6"
      }
     },
     "metadata": {}
    }
   ],
   "source": [
    "# 11a. Add a marker layer for each city to the map. \n",
    "max_temp = clean_hotel_df[\"Max Temp\"]\n",
    "fig = gmaps.figure(center=(30.0, 31.0), zoom_level=1.5)\n",
    "heat_layer = gmaps.heatmap_layer(locations, weights=max_temp,dissipating=False,\n",
    "             max_intensity=300, point_radius=4)\n",
    "marker_layer = gmaps.marker_layer(locations, info_box_content=hotel_info)\n",
    "fig.add_layer(heat_layer)\n",
    "fig.add_layer(marker_layer)\n",
    "# 11b. Display the figure\n",
    "fig"
   ]
  },
  {
   "cell_type": "code",
   "execution_count": null,
   "metadata": {},
   "outputs": [],
   "source": []
  },
  {
   "cell_type": "code",
   "execution_count": null,
   "metadata": {},
   "outputs": [],
   "source": []
  }
 ],
 "metadata": {
  "kernelspec": {
   "name": "python3",
   "display_name": "Python 3.7.10 64-bit ('PythonData': conda)"
  },
  "language_info": {
   "codemirror_mode": {
    "name": "ipython",
    "version": 3
   },
   "file_extension": ".py",
   "mimetype": "text/x-python",
   "name": "python",
   "nbconvert_exporter": "python",
   "pygments_lexer": "ipython3",
   "version": "3.7.10"
  },
  "latex_envs": {
   "LaTeX_envs_menu_present": true,
   "autoclose": false,
   "autocomplete": true,
   "bibliofile": "biblio.bib",
   "cite_by": "apalike",
   "current_citInitial": 1,
   "eqLabelWithNumbers": true,
   "eqNumInitial": 1,
   "hotkeys": {
    "equation": "Ctrl-E",
    "itemize": "Ctrl-I"
   },
   "labels_anchors": false,
   "latex_user_defs": false,
   "report_style_numbering": false,
   "user_envs_cfg": false
  },
  "interpreter": {
   "hash": "fd00eeb31c76fc66d49e503ec85187255246c8c565c275ab66292fe5b3e52bd2"
  }
 },
 "nbformat": 4,
 "nbformat_minor": 2
}