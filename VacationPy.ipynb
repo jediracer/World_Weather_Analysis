{
 "metadata": {
  "language_info": {
   "codemirror_mode": {
    "name": "ipython",
    "version": 3
   },
   "file_extension": ".py",
   "mimetype": "text/x-python",
   "name": "python",
   "nbconvert_exporter": "python",
   "pygments_lexer": "ipython3",
   "version": "3.7.10"
  },
  "orig_nbformat": 4,
  "kernelspec": {
   "name": "python3",
   "display_name": "Python 3.7.10 64-bit ('PythonData': conda)"
  },
  "interpreter": {
   "hash": "fd00eeb31c76fc66d49e503ec85187255246c8c565c275ab66292fe5b3e52bd2"
  }
 },
 "nbformat": 4,
 "nbformat_minor": 2,
 "cells": [
  {
   "cell_type": "code",
   "execution_count": 1,
   "metadata": {},
   "outputs": [],
   "source": [
    "# Import the dependencies.\n",
    "import pandas as pd\n",
    "import gmaps\n",
    "import requests\n",
    "# Import the API key.\n",
    "from config import g_key"
   ]
  },
  {
   "cell_type": "code",
   "execution_count": 2,
   "metadata": {},
   "outputs": [
    {
     "output_type": "execute_result",
     "data": {
      "text/plain": [
       "   City_ID         City Country                 Date      Lat       Lng  \\\n",
       "0        0    Alyangula      AU  2021-07-13 18:02:33 -13.8483  136.4192   \n",
       "1        1        Pisco      PE  2021-07-13 18:02:33 -13.7000  -76.2167   \n",
       "2        2       Albany      US  2021-07-13 18:02:07  42.6001  -73.9662   \n",
       "3        3       Talaya      RU  2021-07-13 18:02:34  61.3833  152.7500   \n",
       "4        4  Tuktoyaktuk      CA  2021-07-13 18:02:34  69.4541 -133.0374   \n",
       "\n",
       "   Max Temp  Humidity  Cloudiness  Wind Speed  \n",
       "0     71.64        89          81        6.04  \n",
       "1     67.01        81          25        6.06  \n",
       "2     80.51        83          86        9.46  \n",
       "3     53.29        90          80        0.11  \n",
       "4     44.64        92          98       15.57  "
      ],
      "text/html": "<div>\n<style scoped>\n    .dataframe tbody tr th:only-of-type {\n        vertical-align: middle;\n    }\n\n    .dataframe tbody tr th {\n        vertical-align: top;\n    }\n\n    .dataframe thead th {\n        text-align: right;\n    }\n</style>\n<table border=\"1\" class=\"dataframe\">\n  <thead>\n    <tr style=\"text-align: right;\">\n      <th></th>\n      <th>City_ID</th>\n      <th>City</th>\n      <th>Country</th>\n      <th>Date</th>\n      <th>Lat</th>\n      <th>Lng</th>\n      <th>Max Temp</th>\n      <th>Humidity</th>\n      <th>Cloudiness</th>\n      <th>Wind Speed</th>\n    </tr>\n  </thead>\n  <tbody>\n    <tr>\n      <th>0</th>\n      <td>0</td>\n      <td>Alyangula</td>\n      <td>AU</td>\n      <td>2021-07-13 18:02:33</td>\n      <td>-13.8483</td>\n      <td>136.4192</td>\n      <td>71.64</td>\n      <td>89</td>\n      <td>81</td>\n      <td>6.04</td>\n    </tr>\n    <tr>\n      <th>1</th>\n      <td>1</td>\n      <td>Pisco</td>\n      <td>PE</td>\n      <td>2021-07-13 18:02:33</td>\n      <td>-13.7000</td>\n      <td>-76.2167</td>\n      <td>67.01</td>\n      <td>81</td>\n      <td>25</td>\n      <td>6.06</td>\n    </tr>\n    <tr>\n      <th>2</th>\n      <td>2</td>\n      <td>Albany</td>\n      <td>US</td>\n      <td>2021-07-13 18:02:07</td>\n      <td>42.6001</td>\n      <td>-73.9662</td>\n      <td>80.51</td>\n      <td>83</td>\n      <td>86</td>\n      <td>9.46</td>\n    </tr>\n    <tr>\n      <th>3</th>\n      <td>3</td>\n      <td>Talaya</td>\n      <td>RU</td>\n      <td>2021-07-13 18:02:34</td>\n      <td>61.3833</td>\n      <td>152.7500</td>\n      <td>53.29</td>\n      <td>90</td>\n      <td>80</td>\n      <td>0.11</td>\n    </tr>\n    <tr>\n      <th>4</th>\n      <td>4</td>\n      <td>Tuktoyaktuk</td>\n      <td>CA</td>\n      <td>2021-07-13 18:02:34</td>\n      <td>69.4541</td>\n      <td>-133.0374</td>\n      <td>44.64</td>\n      <td>92</td>\n      <td>98</td>\n      <td>15.57</td>\n    </tr>\n  </tbody>\n</table>\n</div>"
     },
     "metadata": {},
     "execution_count": 2
    }
   ],
   "source": [
    "# Store the CSV you saved created in part one into a DataFrame.\n",
    "city_data_df = pd.read_csv(\"weather_data/cities.csv\")\n",
    "city_data_df.head()"
   ]
  },
  {
   "cell_type": "code",
   "execution_count": 3,
   "metadata": {},
   "outputs": [
    {
     "output_type": "execute_result",
     "data": {
      "text/plain": [
       "City_ID         int64\n",
       "City           object\n",
       "Country        object\n",
       "Date           object\n",
       "Lat           float64\n",
       "Lng           float64\n",
       "Max Temp      float64\n",
       "Humidity        int64\n",
       "Cloudiness      int64\n",
       "Wind Speed    float64\n",
       "dtype: object"
      ]
     },
     "metadata": {},
     "execution_count": 3
    }
   ],
   "source": [
    "city_data_df.dtypes"
   ]
  },
  {
   "cell_type": "code",
   "execution_count": 4,
   "metadata": {},
   "outputs": [],
   "source": [
    "# Configure gmaps to use your Google API key.\n",
    "gmaps.configure(api_key=g_key)"
   ]
  },
  {
   "cell_type": "code",
   "execution_count": 5,
   "metadata": {},
   "outputs": [
    {
     "output_type": "display_data",
     "data": {
      "text/plain": "Figure(layout=FigureLayout(height='420px'))",
      "application/vnd.jupyter.widget-view+json": {
       "version_major": 2,
       "version_minor": 0,
       "model_id": "dadb7f52217d48659c7281f4ace89f10"
      }
     },
     "metadata": {}
    }
   ],
   "source": [
    "# Heatmap of temperature\n",
    "# Get the latitude and longitude.\n",
    "locations = city_data_df[[\"Lat\", \"Lng\"]]\n",
    "# Get the maximum temperature.\n",
    "max_temp = city_data_df[\"Max Temp\"]\n",
    "# Assign the figure variable.\n",
    "#fig = gmaps.figure()\n",
    "fig = gmaps.figure(center=(30.0, 31.0), zoom_level=1.7)\n",
    "# Assign the heatmap variable.\n",
    "#heat_layer = gmaps.heatmap_layer(locations, weights=max_temp)\n",
    "heat_layer = gmaps.heatmap_layer(locations, weights=max_temp, dissipating=False, max_intensity=300, point_radius=4)\n",
    "# Add the heatmap layer.\n",
    "fig.add_layer(heat_layer)\n",
    "# Call the figure to plot the data.\n",
    "fig"
   ]
  },
  {
   "cell_type": "code",
   "execution_count": 6,
   "metadata": {},
   "outputs": [
    {
     "output_type": "display_data",
     "data": {
      "text/plain": "Figure(layout=FigureLayout(height='420px'))",
      "application/vnd.jupyter.widget-view+json": {
       "version_major": 2,
       "version_minor": 0,
       "model_id": "14da6b627d8b48528fefb161ff98a861"
      }
     },
     "metadata": {}
    }
   ],
   "source": [
    "# Heatmap of percent humidity\n",
    "locations = city_data_df[[\"Lat\", \"Lng\"]]\n",
    "humidity = city_data_df[\"Humidity\"]\n",
    "fig = gmaps.figure(center=(30.0, 31.0), zoom_level=1.5)\n",
    "heat_layer = gmaps.heatmap_layer(locations, weights=humidity, dissipating=False, max_intensity=300, point_radius=4)\n",
    "\n",
    "fig.add_layer(heat_layer)\n",
    "# Call the figure to plot the data.\n",
    "fig"
   ]
  },
  {
   "cell_type": "code",
   "execution_count": 7,
   "metadata": {},
   "outputs": [
    {
     "output_type": "display_data",
     "data": {
      "text/plain": "Figure(layout=FigureLayout(height='420px'))",
      "application/vnd.jupyter.widget-view+json": {
       "version_major": 2,
       "version_minor": 0,
       "model_id": "7f323efa832940afb51825ae0c140fc8"
      }
     },
     "metadata": {}
    }
   ],
   "source": [
    "# Heatmap of percent cloudiness\n",
    "locations = city_data_df[[\"Lat\", \"Lng\"]]\n",
    "clouds = city_data_df[\"Cloudiness\"]\n",
    "fig = gmaps.figure(center=(30.0, 31.0), zoom_level=1.5)\n",
    "heat_layer = gmaps.heatmap_layer(locations, weights=clouds, dissipating=False, max_intensity=300, point_radius=4)\n",
    "\n",
    "fig.add_layer(heat_layer)\n",
    "# Call the figure to plot the data.\n",
    "fig"
   ]
  },
  {
   "cell_type": "code",
   "execution_count": 8,
   "metadata": {},
   "outputs": [
    {
     "output_type": "display_data",
     "data": {
      "text/plain": "Figure(layout=FigureLayout(height='420px'))",
      "application/vnd.jupyter.widget-view+json": {
       "version_major": 2,
       "version_minor": 0,
       "model_id": "d8a1788762254a9f817059ca13a5312c"
      }
     },
     "metadata": {}
    }
   ],
   "source": [
    "# Heatmap of wind speed\n",
    "locations = city_data_df[[\"Lat\", \"Lng\"]]\n",
    "wind = city_data_df[\"Wind Speed\"]\n",
    "fig = gmaps.figure(center=(30.0, 31.0), zoom_level=1.5)\n",
    "heat_layer = gmaps.heatmap_layer(locations, weights=wind, dissipating=False, max_intensity=300, point_radius=4)\n",
    "\n",
    "fig.add_layer(heat_layer)\n",
    "# Call the figure to plot the data.\n",
    "fig"
   ]
  },
  {
   "cell_type": "code",
   "execution_count": 9,
   "metadata": {},
   "outputs": [],
   "source": [
    "# Ask the customer to add a minimum and maximum temperature value.\n",
    "min_temp = float(input(\"What is the minimum temperature you would like for your trip? \"))\n",
    "max_temp = float(input(\"What is the maximum temperature you would like for your trip? \"))"
   ]
  },
  {
   "cell_type": "code",
   "execution_count": 10,
   "metadata": {},
   "outputs": [
    {
     "output_type": "execute_result",
     "data": {
      "text/plain": [
       "    City_ID        City Country                 Date      Lat       Lng  \\\n",
       "2         2      Albany      US  2021-07-13 18:02:07  42.6001  -73.9662   \n",
       "8         8   Jamestown      US  2021-07-13 18:02:36  42.0970  -79.2353   \n",
       "10       10       Kapaa      US  2021-07-13 18:02:36  22.0752 -159.3190   \n",
       "12       12      Brufut      GM  2021-07-13 18:02:37  13.3814  -16.7518   \n",
       "16       16    Katsuura      JP  2021-07-13 18:02:39  35.1333  140.3000   \n",
       "17       17      Ixtapa      MX  2021-07-13 18:00:14  20.7000 -105.2000   \n",
       "18       18     Mikkeli      FI  2021-07-13 18:02:39  61.6886   27.2723   \n",
       "20       20        Luba      GQ  2021-07-13 18:02:40   3.4568    8.5547   \n",
       "21       21  Port Blair      IN  2021-07-13 18:02:40  11.6667   92.7500   \n",
       "22       22     Kavieng      PG  2021-07-13 18:02:41  -2.5744  150.7967   \n",
       "\n",
       "    Max Temp  Humidity  Cloudiness  Wind Speed  \n",
       "2      80.51        83          86        9.46  \n",
       "8      85.08        73          40       14.97  \n",
       "10     79.48        71          10        3.00  \n",
       "12     89.69        62          40        6.91  \n",
       "16     76.19        93          52        7.45  \n",
       "17     88.23        74          75        4.00  \n",
       "18     80.15        53           0        1.14  \n",
       "20     77.59        86          69        8.50  \n",
       "21     81.14        85         100       10.98  \n",
       "22     82.38        76          22       18.14  "
      ],
      "text/html": "<div>\n<style scoped>\n    .dataframe tbody tr th:only-of-type {\n        vertical-align: middle;\n    }\n\n    .dataframe tbody tr th {\n        vertical-align: top;\n    }\n\n    .dataframe thead th {\n        text-align: right;\n    }\n</style>\n<table border=\"1\" class=\"dataframe\">\n  <thead>\n    <tr style=\"text-align: right;\">\n      <th></th>\n      <th>City_ID</th>\n      <th>City</th>\n      <th>Country</th>\n      <th>Date</th>\n      <th>Lat</th>\n      <th>Lng</th>\n      <th>Max Temp</th>\n      <th>Humidity</th>\n      <th>Cloudiness</th>\n      <th>Wind Speed</th>\n    </tr>\n  </thead>\n  <tbody>\n    <tr>\n      <th>2</th>\n      <td>2</td>\n      <td>Albany</td>\n      <td>US</td>\n      <td>2021-07-13 18:02:07</td>\n      <td>42.6001</td>\n      <td>-73.9662</td>\n      <td>80.51</td>\n      <td>83</td>\n      <td>86</td>\n      <td>9.46</td>\n    </tr>\n    <tr>\n      <th>8</th>\n      <td>8</td>\n      <td>Jamestown</td>\n      <td>US</td>\n      <td>2021-07-13 18:02:36</td>\n      <td>42.0970</td>\n      <td>-79.2353</td>\n      <td>85.08</td>\n      <td>73</td>\n      <td>40</td>\n      <td>14.97</td>\n    </tr>\n    <tr>\n      <th>10</th>\n      <td>10</td>\n      <td>Kapaa</td>\n      <td>US</td>\n      <td>2021-07-13 18:02:36</td>\n      <td>22.0752</td>\n      <td>-159.3190</td>\n      <td>79.48</td>\n      <td>71</td>\n      <td>10</td>\n      <td>3.00</td>\n    </tr>\n    <tr>\n      <th>12</th>\n      <td>12</td>\n      <td>Brufut</td>\n      <td>GM</td>\n      <td>2021-07-13 18:02:37</td>\n      <td>13.3814</td>\n      <td>-16.7518</td>\n      <td>89.69</td>\n      <td>62</td>\n      <td>40</td>\n      <td>6.91</td>\n    </tr>\n    <tr>\n      <th>16</th>\n      <td>16</td>\n      <td>Katsuura</td>\n      <td>JP</td>\n      <td>2021-07-13 18:02:39</td>\n      <td>35.1333</td>\n      <td>140.3000</td>\n      <td>76.19</td>\n      <td>93</td>\n      <td>52</td>\n      <td>7.45</td>\n    </tr>\n    <tr>\n      <th>17</th>\n      <td>17</td>\n      <td>Ixtapa</td>\n      <td>MX</td>\n      <td>2021-07-13 18:00:14</td>\n      <td>20.7000</td>\n      <td>-105.2000</td>\n      <td>88.23</td>\n      <td>74</td>\n      <td>75</td>\n      <td>4.00</td>\n    </tr>\n    <tr>\n      <th>18</th>\n      <td>18</td>\n      <td>Mikkeli</td>\n      <td>FI</td>\n      <td>2021-07-13 18:02:39</td>\n      <td>61.6886</td>\n      <td>27.2723</td>\n      <td>80.15</td>\n      <td>53</td>\n      <td>0</td>\n      <td>1.14</td>\n    </tr>\n    <tr>\n      <th>20</th>\n      <td>20</td>\n      <td>Luba</td>\n      <td>GQ</td>\n      <td>2021-07-13 18:02:40</td>\n      <td>3.4568</td>\n      <td>8.5547</td>\n      <td>77.59</td>\n      <td>86</td>\n      <td>69</td>\n      <td>8.50</td>\n    </tr>\n    <tr>\n      <th>21</th>\n      <td>21</td>\n      <td>Port Blair</td>\n      <td>IN</td>\n      <td>2021-07-13 18:02:40</td>\n      <td>11.6667</td>\n      <td>92.7500</td>\n      <td>81.14</td>\n      <td>85</td>\n      <td>100</td>\n      <td>10.98</td>\n    </tr>\n    <tr>\n      <th>22</th>\n      <td>22</td>\n      <td>Kavieng</td>\n      <td>PG</td>\n      <td>2021-07-13 18:02:41</td>\n      <td>-2.5744</td>\n      <td>150.7967</td>\n      <td>82.38</td>\n      <td>76</td>\n      <td>22</td>\n      <td>18.14</td>\n    </tr>\n  </tbody>\n</table>\n</div>"
     },
     "metadata": {},
     "execution_count": 10
    }
   ],
   "source": [
    "# Filter the dataset to find the cities that fit the criteria.\n",
    "preferred_cities_df = city_data_df.loc[(city_data_df[\"Max Temp\"] <= max_temp) & \\\n",
    "                                       (city_data_df[\"Max Temp\"] >= min_temp)]\n",
    "preferred_cities_df.head(10)"
   ]
  },
  {
   "cell_type": "code",
   "execution_count": 11,
   "metadata": {},
   "outputs": [
    {
     "output_type": "execute_result",
     "data": {
      "text/plain": [
       "City_ID       222\n",
       "City          222\n",
       "Country       222\n",
       "Date          222\n",
       "Lat           222\n",
       "Lng           222\n",
       "Max Temp      222\n",
       "Humidity      222\n",
       "Cloudiness    222\n",
       "Wind Speed    222\n",
       "dtype: int64"
      ]
     },
     "metadata": {},
     "execution_count": 11
    }
   ],
   "source": [
    "preferred_cities_df.count()\n"
   ]
  },
  {
   "cell_type": "code",
   "execution_count": 12,
   "metadata": {},
   "outputs": [
    {
     "output_type": "execute_result",
     "data": {
      "text/plain": [
       "          City Country  Max Temp      Lat       Lng Hotel Name\n",
       "2       Albany      US     80.51  42.6001  -73.9662           \n",
       "8    Jamestown      US     85.08  42.0970  -79.2353           \n",
       "10       Kapaa      US     79.48  22.0752 -159.3190           \n",
       "12      Brufut      GM     89.69  13.3814  -16.7518           \n",
       "16    Katsuura      JP     76.19  35.1333  140.3000           \n",
       "17      Ixtapa      MX     88.23  20.7000 -105.2000           \n",
       "18     Mikkeli      FI     80.15  61.6886   27.2723           \n",
       "20        Luba      GQ     77.59   3.4568    8.5547           \n",
       "21  Port Blair      IN     81.14  11.6667   92.7500           \n",
       "22     Kavieng      PG     82.38  -2.5744  150.7967           "
      ],
      "text/html": "<div>\n<style scoped>\n    .dataframe tbody tr th:only-of-type {\n        vertical-align: middle;\n    }\n\n    .dataframe tbody tr th {\n        vertical-align: top;\n    }\n\n    .dataframe thead th {\n        text-align: right;\n    }\n</style>\n<table border=\"1\" class=\"dataframe\">\n  <thead>\n    <tr style=\"text-align: right;\">\n      <th></th>\n      <th>City</th>\n      <th>Country</th>\n      <th>Max Temp</th>\n      <th>Lat</th>\n      <th>Lng</th>\n      <th>Hotel Name</th>\n    </tr>\n  </thead>\n  <tbody>\n    <tr>\n      <th>2</th>\n      <td>Albany</td>\n      <td>US</td>\n      <td>80.51</td>\n      <td>42.6001</td>\n      <td>-73.9662</td>\n      <td></td>\n    </tr>\n    <tr>\n      <th>8</th>\n      <td>Jamestown</td>\n      <td>US</td>\n      <td>85.08</td>\n      <td>42.0970</td>\n      <td>-79.2353</td>\n      <td></td>\n    </tr>\n    <tr>\n      <th>10</th>\n      <td>Kapaa</td>\n      <td>US</td>\n      <td>79.48</td>\n      <td>22.0752</td>\n      <td>-159.3190</td>\n      <td></td>\n    </tr>\n    <tr>\n      <th>12</th>\n      <td>Brufut</td>\n      <td>GM</td>\n      <td>89.69</td>\n      <td>13.3814</td>\n      <td>-16.7518</td>\n      <td></td>\n    </tr>\n    <tr>\n      <th>16</th>\n      <td>Katsuura</td>\n      <td>JP</td>\n      <td>76.19</td>\n      <td>35.1333</td>\n      <td>140.3000</td>\n      <td></td>\n    </tr>\n    <tr>\n      <th>17</th>\n      <td>Ixtapa</td>\n      <td>MX</td>\n      <td>88.23</td>\n      <td>20.7000</td>\n      <td>-105.2000</td>\n      <td></td>\n    </tr>\n    <tr>\n      <th>18</th>\n      <td>Mikkeli</td>\n      <td>FI</td>\n      <td>80.15</td>\n      <td>61.6886</td>\n      <td>27.2723</td>\n      <td></td>\n    </tr>\n    <tr>\n      <th>20</th>\n      <td>Luba</td>\n      <td>GQ</td>\n      <td>77.59</td>\n      <td>3.4568</td>\n      <td>8.5547</td>\n      <td></td>\n    </tr>\n    <tr>\n      <th>21</th>\n      <td>Port Blair</td>\n      <td>IN</td>\n      <td>81.14</td>\n      <td>11.6667</td>\n      <td>92.7500</td>\n      <td></td>\n    </tr>\n    <tr>\n      <th>22</th>\n      <td>Kavieng</td>\n      <td>PG</td>\n      <td>82.38</td>\n      <td>-2.5744</td>\n      <td>150.7967</td>\n      <td></td>\n    </tr>\n  </tbody>\n</table>\n</div>"
     },
     "metadata": {},
     "execution_count": 12
    }
   ],
   "source": [
    "# Create DataFrame called hotel_df to store hotel names along with city, country, max temp, and coordinates.\n",
    "hotel_df = preferred_cities_df[[\"City\", \"Country\", \"Max Temp\", \"Lat\", \"Lng\"]].copy()\n",
    "hotel_df[\"Hotel Name\"] = \"\"\n",
    "hotel_df.head(10)"
   ]
  },
  {
   "cell_type": "code",
   "execution_count": 13,
   "metadata": {},
   "outputs": [],
   "source": [
    "# Set parameters to search for a hotel.\n",
    "params = {\n",
    "    \"radius\": 5000,\n",
    "    \"type\": \"lodging\",\n",
    "    \"key\": g_key\n",
    "}"
   ]
  },
  {
   "cell_type": "code",
   "execution_count": 14,
   "metadata": {},
   "outputs": [
    {
     "output_type": "stream",
     "name": "stdout",
     "text": [
      "Hotel not found... skipping.\n",
      "Hotel not found... skipping.\n",
      "Hotel not found... skipping.\n",
      "Hotel not found... skipping.\n",
      "Hotel not found... skipping.\n",
      "Hotel not found... skipping.\n",
      "Hotel not found... skipping.\n",
      "Hotel not found... skipping.\n",
      "Hotel not found... skipping.\n",
      "Hotel not found... skipping.\n",
      "Hotel not found... skipping.\n",
      "Hotel not found... skipping.\n",
      "Hotel not found... skipping.\n",
      "Hotel not found... skipping.\n",
      "Hotel not found... skipping.\n",
      "Hotel not found... skipping.\n"
     ]
    }
   ],
   "source": [
    "# Iterate through the DataFrame.\n",
    "for index, row in hotel_df.iterrows():\n",
    "    # Get the latitude and longitude.\n",
    "    lat = row[\"Lat\"]\n",
    "    lng = row[\"Lng\"]\n",
    "\n",
    "    # Add the latitude and longitude to location key for the params dictionary.\n",
    "    params[\"location\"] = f\"{lat},{lng}\"\n",
    "\n",
    "    # Use the search term: \"lodging\" and our latitude and longitude.\n",
    "    base_url = \"https://maps.googleapis.com/maps/api/place/nearbysearch/json\"\n",
    "    # Make request and get the JSON data from the search.\n",
    "    hotels = requests.get(base_url, params=params).json()\n",
    "    # Grab the first hotel from the results and store the name.\n",
    "    try:\n",
    "        hotel_df.loc[index, \"Hotel Name\"] = hotels[\"results\"][0][\"name\"]\n",
    "    except (IndexError):\n",
    "        print(\"Hotel not found... skipping.\")"
   ]
  },
  {
   "cell_type": "code",
   "execution_count": 15,
   "metadata": {},
   "outputs": [
    {
     "output_type": "execute_result",
     "data": {
      "text/plain": [
       "          City Country  Max Temp      Lat       Lng  \\\n",
       "2       Albany      US     80.51  42.6001  -73.9662   \n",
       "8    Jamestown      US     85.08  42.0970  -79.2353   \n",
       "10       Kapaa      US     79.48  22.0752 -159.3190   \n",
       "12      Brufut      GM     89.69  13.3814  -16.7518   \n",
       "16    Katsuura      JP     76.19  35.1333  140.3000   \n",
       "17      Ixtapa      MX     88.23  20.7000 -105.2000   \n",
       "18     Mikkeli      FI     80.15  61.6886   27.2723   \n",
       "20        Luba      GQ     77.59   3.4568    8.5547   \n",
       "21  Port Blair      IN     81.14  11.6667   92.7500   \n",
       "22     Kavieng      PG     82.38  -2.5744  150.7967   \n",
       "\n",
       "                                           Hotel Name  \n",
       "2                                                      \n",
       "8                      Hampton Inn & Suites Jamestown  \n",
       "10                Sheraton Kauai Coconut Beach Resort  \n",
       "12                 Sheraton Gambia Hotel Resort & Spa  \n",
       "16                            Katsuura Hotel Mikazuki  \n",
       "17                            Hotel Plaza Providencia  \n",
       "18              Original Sokos Hotel Vaakuna, Mikkeli  \n",
       "20                                                     \n",
       "21  Welcomhotel By ITC Hotels, Bay Island, Port Blair  \n",
       "22                                Nusa Island Retreat  "
      ],
      "text/html": "<div>\n<style scoped>\n    .dataframe tbody tr th:only-of-type {\n        vertical-align: middle;\n    }\n\n    .dataframe tbody tr th {\n        vertical-align: top;\n    }\n\n    .dataframe thead th {\n        text-align: right;\n    }\n</style>\n<table border=\"1\" class=\"dataframe\">\n  <thead>\n    <tr style=\"text-align: right;\">\n      <th></th>\n      <th>City</th>\n      <th>Country</th>\n      <th>Max Temp</th>\n      <th>Lat</th>\n      <th>Lng</th>\n      <th>Hotel Name</th>\n    </tr>\n  </thead>\n  <tbody>\n    <tr>\n      <th>2</th>\n      <td>Albany</td>\n      <td>US</td>\n      <td>80.51</td>\n      <td>42.6001</td>\n      <td>-73.9662</td>\n      <td></td>\n    </tr>\n    <tr>\n      <th>8</th>\n      <td>Jamestown</td>\n      <td>US</td>\n      <td>85.08</td>\n      <td>42.0970</td>\n      <td>-79.2353</td>\n      <td>Hampton Inn &amp; Suites Jamestown</td>\n    </tr>\n    <tr>\n      <th>10</th>\n      <td>Kapaa</td>\n      <td>US</td>\n      <td>79.48</td>\n      <td>22.0752</td>\n      <td>-159.3190</td>\n      <td>Sheraton Kauai Coconut Beach Resort</td>\n    </tr>\n    <tr>\n      <th>12</th>\n      <td>Brufut</td>\n      <td>GM</td>\n      <td>89.69</td>\n      <td>13.3814</td>\n      <td>-16.7518</td>\n      <td>Sheraton Gambia Hotel Resort &amp; Spa</td>\n    </tr>\n    <tr>\n      <th>16</th>\n      <td>Katsuura</td>\n      <td>JP</td>\n      <td>76.19</td>\n      <td>35.1333</td>\n      <td>140.3000</td>\n      <td>Katsuura Hotel Mikazuki</td>\n    </tr>\n    <tr>\n      <th>17</th>\n      <td>Ixtapa</td>\n      <td>MX</td>\n      <td>88.23</td>\n      <td>20.7000</td>\n      <td>-105.2000</td>\n      <td>Hotel Plaza Providencia</td>\n    </tr>\n    <tr>\n      <th>18</th>\n      <td>Mikkeli</td>\n      <td>FI</td>\n      <td>80.15</td>\n      <td>61.6886</td>\n      <td>27.2723</td>\n      <td>Original Sokos Hotel Vaakuna, Mikkeli</td>\n    </tr>\n    <tr>\n      <th>20</th>\n      <td>Luba</td>\n      <td>GQ</td>\n      <td>77.59</td>\n      <td>3.4568</td>\n      <td>8.5547</td>\n      <td></td>\n    </tr>\n    <tr>\n      <th>21</th>\n      <td>Port Blair</td>\n      <td>IN</td>\n      <td>81.14</td>\n      <td>11.6667</td>\n      <td>92.7500</td>\n      <td>Welcomhotel By ITC Hotels, Bay Island, Port Blair</td>\n    </tr>\n    <tr>\n      <th>22</th>\n      <td>Kavieng</td>\n      <td>PG</td>\n      <td>82.38</td>\n      <td>-2.5744</td>\n      <td>150.7967</td>\n      <td>Nusa Island Retreat</td>\n    </tr>\n  </tbody>\n</table>\n</div>"
     },
     "metadata": {},
     "execution_count": 15
    }
   ],
   "source": [
    "hotel_df.head(10)"
   ]
  },
  {
   "cell_type": "code",
   "execution_count": 16,
   "metadata": {},
   "outputs": [
    {
     "output_type": "display_data",
     "data": {
      "text/plain": "Figure(layout=FigureLayout(height='420px'))",
      "application/vnd.jupyter.widget-view+json": {
       "version_major": 2,
       "version_minor": 0,
       "model_id": "f14c4c9500fa485a951b4afcca516313"
      }
     },
     "metadata": {}
    }
   ],
   "source": [
    "# Add a heatmap of temperature for the vacation spots.\n",
    "locations = hotel_df[[\"Lat\", \"Lng\"]]\n",
    "max_temp = hotel_df[\"Max Temp\"]\n",
    "fig = gmaps.figure(center=(30.0, 31.0), zoom_level=1.5)\n",
    "heat_layer = gmaps.heatmap_layer(locations, weights=max_temp, dissipating=False,\n",
    "             max_intensity=300, point_radius=4)\n",
    "\n",
    "fig.add_layer(heat_layer)\n",
    "# Call the figure to plot the data.\n",
    "fig"
   ]
  },
  {
   "cell_type": "code",
   "execution_count": 17,
   "metadata": {},
   "outputs": [
    {
     "output_type": "display_data",
     "data": {
      "text/plain": "Figure(layout=FigureLayout(height='420px'))",
      "application/vnd.jupyter.widget-view+json": {
       "version_major": 2,
       "version_minor": 0,
       "model_id": "404f5084ca46421687948e30ce113dc2"
      }
     },
     "metadata": {}
    }
   ],
   "source": [
    "# Add a heatmap of temperature for the vacation spots and marker for each city.\n",
    "locations = hotel_df[[\"Lat\", \"Lng\"]]\n",
    "max_temp = hotel_df[\"Max Temp\"]\n",
    "fig = gmaps.figure(center=(30.0, 31.0), zoom_level=1.5)\n",
    "heat_layer = gmaps.heatmap_layer(locations, weights=max_temp,\n",
    "             dissipating=False, max_intensity=300, point_radius=4)\n",
    "marker_layer = gmaps.marker_layer(locations)\n",
    "fig.add_layer(heat_layer)\n",
    "fig.add_layer(marker_layer)\n",
    "# Call the figure to plot the data.\n",
    "fig"
   ]
  },
  {
   "cell_type": "code",
   "execution_count": 18,
   "metadata": {},
   "outputs": [],
   "source": [
    "info_box_template = \"\"\"\n",
    "<dl>\n",
    "<dt>Hotel Name</dt><dd>{Hotel Name}</dd>\n",
    "<dt>City</dt><dd>{City}</dd>\n",
    "<dt>Country</dt><dd>{Country}</dd>\n",
    "<dt>Max Temp</dt><dd>{Max Temp} °F</dd>\n",
    "</dl>\n",
    "\"\"\""
   ]
  },
  {
   "cell_type": "code",
   "execution_count": 19,
   "metadata": {},
   "outputs": [],
   "source": [
    "# Store the DataFrame Row.\n",
    "hotel_info = [info_box_template.format(**row) for index, row in hotel_df.iterrows()]"
   ]
  },
  {
   "cell_type": "code",
   "execution_count": 20,
   "metadata": {},
   "outputs": [
    {
     "output_type": "display_data",
     "data": {
      "text/plain": "Figure(layout=FigureLayout(height='420px'))",
      "application/vnd.jupyter.widget-view+json": {
       "version_major": 2,
       "version_minor": 0,
       "model_id": "ad9d1013f24f4e56a988ec1585eaf082"
      }
     },
     "metadata": {}
    }
   ],
   "source": [
    "# Add a heatmap of temperature for the vacation spots and a pop-up marker for each city.\n",
    "locations = hotel_df[[\"Lat\", \"Lng\"]]\n",
    "max_temp = hotel_df[\"Max Temp\"]\n",
    "fig = gmaps.figure(center=(30.0, 31.0), zoom_level=1.5)\n",
    "heat_layer = gmaps.heatmap_layer(locations, weights=max_temp,dissipating=False,\n",
    "             max_intensity=300, point_radius=4)\n",
    "marker_layer = gmaps.marker_layer(locations, info_box_content=hotel_info)\n",
    "fig.add_layer(heat_layer)\n",
    "fig.add_layer(marker_layer)\n",
    "\n",
    "# Call the figure to plot the data.\n",
    "fig"
   ]
  },
  {
   "cell_type": "code",
   "execution_count": null,
   "metadata": {},
   "outputs": [],
   "source": []
  }
 ]
}